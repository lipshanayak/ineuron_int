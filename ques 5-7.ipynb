{
 "cells": [
  {
   "cell_type": "markdown",
   "id": "63b8d632",
   "metadata": {},
   "source": [
    "5. You have a dataset named customer_data.csv that contains information about customers. The dataset has columns customer_id, age, gender, email, and purchases. Write a Python script to read the dataset, perform data cleaning by removing duplicates and handling missing values, and then calculate the average number of purchases for each gender."
   ]
  },
  {
   "cell_type": "code",
   "execution_count": 2,
   "id": "fbc2882f",
   "metadata": {},
   "outputs": [
    {
     "name": "stdout",
     "output_type": "stream",
     "text": [
      "gender\n",
      "F     4.20\n",
      "M    11.25\n",
      "Name: purchases, dtype: float64\n"
     ]
    }
   ],
   "source": [
    "import pandas as pd\n",
    "df = pd.read_csv('customer_data.csv')\n",
    "\n",
    "df.drop_duplicates(subset='customer_id', inplace=True)\n",
    "\n",
    "df['purchases'].fillna(0, inplace=True)\n",
    "\n",
    "average_purchases_by_gender = df.groupby('gender')['purchases'].mean()\n",
    "\n",
    "print(average_purchases_by_gender)\n"
   ]
  },
  {
   "cell_type": "code",
   "execution_count": null,
   "id": "80d923f5",
   "metadata": {},
   "outputs": [],
   "source": [
    "# 7. Answer the following questions  using dataset provided below\n",
    "\n",
    "# 1. What is the % of sessions with an intention to book a scooter?\n",
    "#  2. What is the % of sessions with a successful booking? 3. What determines, according to you, an intention to book?\n",
    "# 4. What are factors, according to you, determining a successful booking? \n",
    "# 5. Do you have any hypotheses after exploring this data? If yes, please add them.  "
   ]
  },
  {
   "cell_type": "code",
   "execution_count": 17,
   "id": "0ec15ddb",
   "metadata": {},
   "outputs": [
    {
     "name": "stdout",
     "output_type": "stream",
     "text": [
      "Percentage of sessions with an intention to book: 23.84%\n",
      "Percentage of sessions with a successful booking: 43.38%\n"
     ]
    }
   ],
   "source": [
    "\n",
    "mobile_events = pd.read_csv('mobile_events_2020.csv', sep=';')\n",
    "total_sessions = mobile_events['anonymous_id'].nunique()\n",
    "\n",
    "# Calculate the % of sessions with an intention to book\n",
    "intention_to_book_events = ['Scooter Selected - User']\n",
    "sessions_with_intention_to_book = mobile_events[mobile_events['event_name'].isin(intention_to_book_events)]['anonymous_id'].nunique()\n",
    "percentage_intention_to_book = (sessions_with_intention_to_book / total_sessions) * 100\n",
    "\n",
    "print(f\"Percentage of sessions with an intention to book: {percentage_intention_to_book:.2f}%\")\n",
    "\n",
    "# Calculate the % of sessions with a successful booking\n",
    "successful_booking_events = ['Ride Started - Successful', 'Ride Done - Successful']\n",
    "sessions_with_successful_booking = mobile_events[mobile_events['event_name'].isin(successful_booking_events)]['anonymous_id'].nunique()\n",
    "percentage_successful_booking = (sessions_with_successful_booking / total_sessions) * 100\n",
    "\n",
    "print(f\"Percentage of sessions with a successful booking: {percentage_successful_booking:.2f}%\")\n",
    "\n"
   ]
  },
  {
   "cell_type": "code",
   "execution_count": 18,
   "id": "88552967",
   "metadata": {},
   "outputs": [
    {
     "name": "stdout",
     "output_type": "stream",
     "text": [
      "Successful bookings by zone:\n",
      "Hamburg    10300\n",
      "Name: business_zoned, dtype: int64\n"
     ]
    }
   ],
   "source": [
    "# What are factors, according to you, determining a successful booking? \n",
    "# analysys to see which business_zone have more successful bookings\n",
    "successful_booking_events = ['Ride Started - Successful', 'Ride Done - Successful']\n",
    "successful_booking_df = mobile_events[mobile_events['event_name'].isin(successful_booking_events)]\n",
    "\n",
    "successful_booking_by_zone = successful_booking_df['business_zoned'].value_counts()\n",
    "print(\"Successful bookings by zone:\")\n",
    "print(successful_booking_by_zone)\n",
    "\n"
   ]
  },
  {
   "cell_type": "code",
   "execution_count": null,
   "id": "a5a1aaeb",
   "metadata": {},
   "outputs": [],
   "source": []
  }
 ],
 "metadata": {
  "kernelspec": {
   "display_name": "Python 3 (ipykernel)",
   "language": "python",
   "name": "python3"
  },
  "language_info": {
   "codemirror_mode": {
    "name": "ipython",
    "version": 3
   },
   "file_extension": ".py",
   "mimetype": "text/x-python",
   "name": "python",
   "nbconvert_exporter": "python",
   "pygments_lexer": "ipython3",
   "version": "3.10.9"
  }
 },
 "nbformat": 4,
 "nbformat_minor": 5
}
